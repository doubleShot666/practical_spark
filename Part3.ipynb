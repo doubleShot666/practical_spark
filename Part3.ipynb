{
 "cells": [
  {
   "cell_type": "code",
   "execution_count": 1,
   "metadata": {},
   "outputs": [],
   "source": [
    "from pyspark.ml.clustering import KMeans\n",
    "from pyspark.ml.evaluation import ClusteringEvaluator\n",
    "from pyspark.sql import SparkSession\n",
    "\n",
    "#connect to Spark\n",
    "if __name__ == \"__main__\":\n",
    "    spark = SparkSession\\\n",
    "        .builder\\\n",
    "        .appName(\"KMeans\")\\\n",
    "        .config(\"spark.sql.broadcastTimeout\", \"36000\")\\\n",
    "        .config(\"spark.memory.fraction\", 0.8) \\\n",
    "        .config(\"spark.executor.memory\", \"16g\") \\\n",
    "        .config(\"spark.driver.memory\", \"16g\")\\\n",
    "        .config(\"spark.sql.shuffle.partitions\" , \"800\") \\\n",
    "        .config(\"spark.memory.offHeap.enabled\",'true')\\\n",
    "        .config(\"spark.memory.offHeap.size\",\"16g\")\\\n",
    "        .getOrCreate()\n"
   ]
  },
  {
   "cell_type": "code",
   "execution_count": 2,
   "metadata": {},
   "outputs": [],
   "source": [
    "from pyspark.sql.types import *\n",
    "from pyspark.sql.functions import *\n",
    "\n",
    "#read ratings.csv\n",
    "schema_rating = (StructType().add(\"userId\",IntegerType()).add(\"movieId\",IntegerType()).add(\"rating\",FloatType()).add(\"timestamp\",StringType()))\n",
    "ratingsdf = spark.read.csv(\"ratings.csv\", schema = schema_rating, header = True)"
   ]
  },
  {
   "cell_type": "code",
   "execution_count": 3,
   "metadata": {},
   "outputs": [],
   "source": [
    "ratingsdf = ratingsdf.dropna()"
   ]
  },
  {
   "cell_type": "code",
   "execution_count": 4,
   "metadata": {},
   "outputs": [
    {
     "name": "stdout",
     "output_type": "stream",
     "text": [
      "+-------+--------------------+----+------+------+\n",
      "|movieId|              genres|year|userId|rating|\n",
      "+-------+--------------------+----+------+------+\n",
      "|      1|Adventure|Animati...|1995|     1|   4.0|\n",
      "|      3|      Comedy|Romance|1995|     1|   4.0|\n",
      "|      6|Action|Crime|Thri...|1995|     1|   4.0|\n",
      "|     47|    Mystery|Thriller|1995|     1|   5.0|\n",
      "|     50|Crime|Mystery|Thr...|1995|     1|   5.0|\n",
      "|     70|Action|Comedy|Hor...|1996|     1|   3.0|\n",
      "|    101|Adventure|Comedy|...|1996|     1|   5.0|\n",
      "|    110|    Action|Drama|War|1995|     1|   4.0|\n",
      "|    151|Action|Drama|Roma...|1995|     1|   5.0|\n",
      "|    157|          Comedy|War|1995|     1|   5.0|\n",
      "|    163|Action|Romance|We...|1995|     1|   5.0|\n",
      "|    216|              Comedy|1995|     1|   5.0|\n",
      "|    223|              Comedy|1994|     1|   3.0|\n",
      "|    231|    Adventure|Comedy|1994|     1|   5.0|\n",
      "|    235|        Comedy|Drama|1994|     1|   4.0|\n",
      "|    260|Action|Adventure|...|1977|     1|   5.0|\n",
      "|    296|Comedy|Crime|Dram...|1994|     1|   3.0|\n",
      "|    316|Action|Adventure|...|1994|     1|   3.0|\n",
      "|    333|              Comedy|1995|     1|   5.0|\n",
      "|    349|Action|Crime|Dram...|1994|     1|   4.0|\n",
      "+-------+--------------------+----+------+------+\n",
      "only showing top 20 rows\n",
      "\n"
     ]
    }
   ],
   "source": [
    "#read movie.csv\n",
    "schema = (StructType().add(\"movieId\",IntegerType()).add(\"title\",StringType()).add(\"genres\",StringType()))\n",
    "moviesdf = spark.read.csv(\"movies.csv\", schema = schema, header = True)\n",
    "#clean movie data\n",
    "moviesdf = moviesdf.filter(moviesdf.genres != \"(s listed)\")\n",
    "moviesdf = moviesdf.filter(moviesdf.genres != \"(no genres listed)\")\n",
    "moviesdf = moviesdf.dropna()\n",
    "\n",
    "#add year column to movie\n",
    "moviesdf = moviesdf.withColumn('year',\n",
    "                        regexp_extract(moviesdf['title'], '[1-2][0-9][0-9][0-9]', 0).cast(IntegerType()))\n",
    "\n",
    "#generate dataframe of movie and rating           \n",
    "df_for_k_means = moviesdf.join(ratingsdf, moviesdf.movieId == ratingsdf.movieId).drop(ratingsdf.movieId).drop(ratingsdf.timestamp).drop(moviesdf.title)\n",
    "df_for_k_means.show()\n",
    "\n"
   ]
  },
  {
   "cell_type": "code",
   "execution_count": 5,
   "metadata": {},
   "outputs": [
    {
     "name": "stdout",
     "output_type": "stream",
     "text": [
      "+-------+---------+---------+--------+------+-------+-------+------+-----+--------+-------+------+-----+---+-------+------+-------+---------+----+-----------+\n",
      "|movieId|Adventure|Animation|Children|Comedy|Fantasy|Romance|Action|Crime|Thriller|Mystery|Horror|Drama|War|Western|Sci-Fi|Musical|Film-Noir|IMAX|Documentary|\n",
      "+-------+---------+---------+--------+------+-------+-------+------+-----+--------+-------+------+-----+---+-------+------+-------+---------+----+-----------+\n",
      "|1      |1        |1        |1       |1     |1      |0      |0     |0    |0       |0      |0     |0    |0  |0      |0     |0      |0        |0   |0          |\n",
      "|3      |0        |0        |0       |1     |0      |1      |0     |0    |0       |0      |0     |0    |0  |0      |0     |0      |0        |0   |0          |\n",
      "|6      |0        |0        |0       |0     |0      |0      |1     |1    |1       |0      |0     |0    |0  |0      |0     |0      |0        |0   |0          |\n",
      "|47     |0        |0        |0       |0     |0      |0      |0     |0    |1       |1      |0     |0    |0  |0      |0     |0      |0        |0   |0          |\n",
      "|50     |0        |0        |0       |0     |0      |0      |0     |1    |1       |1      |0     |0    |0  |0      |0     |0      |0        |0   |0          |\n",
      "|70     |0        |0        |0       |1     |0      |0      |1     |0    |1       |0      |1     |0    |0  |0      |0     |0      |0        |0   |0          |\n",
      "|101    |1        |0        |0       |1     |0      |1      |0     |1    |0       |0      |0     |0    |0  |0      |0     |0      |0        |0   |0          |\n",
      "|110    |0        |0        |0       |0     |0      |0      |1     |0    |0       |0      |0     |1    |1  |0      |0     |0      |0        |0   |0          |\n",
      "|151    |0        |0        |0       |0     |0      |1      |1     |0    |0       |0      |0     |1    |1  |0      |0     |0      |0        |0   |0          |\n",
      "|157    |0        |0        |0       |1     |0      |0      |0     |0    |0       |0      |0     |0    |1  |0      |0     |0      |0        |0   |0          |\n",
      "|163    |0        |0        |0       |0     |0      |1      |1     |0    |0       |0      |0     |0    |0  |1      |0     |0      |0        |0   |0          |\n",
      "|216    |0        |0        |0       |1     |0      |0      |0     |0    |0       |0      |0     |0    |0  |0      |0     |0      |0        |0   |0          |\n",
      "|223    |0        |0        |0       |1     |0      |0      |0     |0    |0       |0      |0     |0    |0  |0      |0     |0      |0        |0   |0          |\n",
      "|231    |1        |0        |0       |1     |0      |0      |0     |0    |0       |0      |0     |0    |0  |0      |0     |0      |0        |0   |0          |\n",
      "|235    |0        |0        |0       |1     |0      |0      |0     |0    |0       |0      |0     |1    |0  |0      |0     |0      |0        |0   |0          |\n",
      "|260    |1        |0        |0       |0     |0      |0      |1     |0    |0       |0      |0     |0    |0  |0      |1     |0      |0        |0   |0          |\n",
      "|296    |0        |0        |0       |1     |0      |0      |0     |1    |1       |0      |0     |1    |0  |0      |0     |0      |0        |0   |0          |\n",
      "|316    |1        |0        |0       |0     |0      |0      |1     |0    |0       |0      |0     |0    |0  |0      |1     |0      |0        |0   |0          |\n",
      "|333    |0        |0        |0       |1     |0      |0      |0     |0    |0       |0      |0     |0    |0  |0      |0     |0      |0        |0   |0          |\n",
      "|349    |0        |0        |0       |0     |0      |0      |1     |1    |1       |0      |0     |1    |0  |0      |0     |0      |0        |0   |0          |\n",
      "|356    |0        |0        |0       |1     |0      |1      |0     |0    |0       |0      |0     |1    |1  |0      |0     |0      |0        |0   |0          |\n",
      "|362    |1        |0        |1       |0     |0      |1      |0     |0    |0       |0      |0     |0    |0  |0      |0     |0      |0        |0   |0          |\n",
      "|367    |0        |0        |0       |1     |1      |0      |1     |1    |0       |0      |0     |0    |0  |0      |0     |0      |0        |0   |0          |\n",
      "|423    |0        |0        |0       |0     |0      |0      |1     |0    |1       |0      |0     |0    |0  |0      |0     |0      |0        |0   |0          |\n",
      "|441    |0        |0        |0       |1     |0      |0      |0     |0    |0       |0      |0     |0    |0  |0      |0     |0      |0        |0   |0          |\n",
      "|457    |0        |0        |0       |0     |0      |0      |0     |0    |1       |0      |0     |0    |0  |0      |0     |0      |0        |0   |0          |\n",
      "|480    |1        |0        |0       |0     |0      |0      |1     |0    |1       |0      |0     |0    |0  |0      |1     |0      |0        |0   |0          |\n",
      "|500    |0        |0        |0       |1     |0      |0      |0     |0    |0       |0      |0     |1    |0  |0      |0     |0      |0        |0   |0          |\n",
      "|527    |0        |0        |0       |0     |0      |0      |0     |0    |0       |0      |0     |1    |1  |0      |0     |0      |0        |0   |0          |\n",
      "|543    |0        |0        |0       |1     |0      |1      |0     |0    |1       |0      |0     |0    |0  |0      |0     |0      |0        |0   |0          |\n",
      "+-------+---------+---------+--------+------+-------+-------+------+-----+--------+-------+------+-----+---+-------+------+-------+---------+----+-----------+\n",
      "only showing top 30 rows\n",
      "\n"
     ]
    }
   ],
   "source": [
    "#get dummy variables of genres\n",
    "from pyspark.sql.functions import split, array_contains\n",
    "category = ['Adventure',\n",
    "          'Animation',\n",
    "          'Children',\n",
    "         'Comedy',\n",
    "         'Fantasy',\n",
    "         'Romance',\n",
    "         'Action',\n",
    "         'Crime',\n",
    "         'Thriller',\n",
    "         'Mystery',\n",
    "         'Horror',\n",
    "         'Drama',\n",
    "         'War',\n",
    "         'Western',\n",
    "         'Sci-Fi',\n",
    "         'Musical',\n",
    "         'Film-Noir',\n",
    "         'IMAX',\n",
    "         'Documentary']\n",
    "genre_cols = df_for_k_means.withColumn('genre', split('genres', '\\|')) \\\n",
    "  .select('movieId', *[ array_contains('genre', c).astype('int').alias(c) for c in category ])\n",
    "genre_cols.show(30, truncate=False)\n"
   ]
  },
  {
   "cell_type": "code",
   "execution_count": 6,
   "metadata": {},
   "outputs": [
    {
     "name": "stdout",
     "output_type": "stream",
     "text": [
      "+----+------+------+-------+---------+---------+--------+------+-------+-------+------+-----+--------+-------+------+-----+---+-------+------+-------+---------+----+-----------+\n",
      "|year|userId|rating|movieId|Adventure|Animation|Children|Comedy|Fantasy|Romance|Action|Crime|Thriller|Mystery|Horror|Drama|War|Western|Sci-Fi|Musical|Film-Noir|IMAX|Documentary|\n",
      "+----+------+------+-------+---------+---------+--------+------+-------+-------+------+-----+--------+-------+------+-----+---+-------+------+-------+---------+----+-----------+\n",
      "|1997|     1|   3.0|   1580|        0|        0|       0|     1|      0|      0|     1|    0|       0|      0|     0|    0|  0|      0|     1|      0|        0|   0|          0|\n",
      "|1997|     4|   3.0|   1580|        0|        0|       0|     1|      0|      0|     1|    0|       0|      0|     0|    0|  0|      0|     1|      0|        0|   0|          0|\n",
      "|1997|    18|   3.5|   1580|        0|        0|       0|     1|      0|      0|     1|    0|       0|      0|     0|    0|  0|      0|     1|      0|        0|   0|          0|\n",
      "|1997|    19|   2.0|   1580|        0|        0|       0|     1|      0|      0|     1|    0|       0|      0|     0|    0|  0|      0|     1|      0|        0|   0|          0|\n",
      "|1997|    21|   4.5|   1580|        0|        0|       0|     1|      0|      0|     1|    0|       0|      0|     0|    0|  0|      0|     1|      0|        0|   0|          0|\n",
      "|1997|    24|   4.0|   1580|        0|        0|       0|     1|      0|      0|     1|    0|       0|      0|     0|    0|  0|      0|     1|      0|        0|   0|          0|\n",
      "|1997|    27|   3.0|   1580|        0|        0|       0|     1|      0|      0|     1|    0|       0|      0|     0|    0|  0|      0|     1|      0|        0|   0|          0|\n",
      "|1997|    28|   3.0|   1580|        0|        0|       0|     1|      0|      0|     1|    0|       0|      0|     0|    0|  0|      0|     1|      0|        0|   0|          0|\n",
      "|1997|    33|   3.0|   1580|        0|        0|       0|     1|      0|      0|     1|    0|       0|      0|     0|    0|  0|      0|     1|      0|        0|   0|          0|\n",
      "|1997|    34|   2.5|   1580|        0|        0|       0|     1|      0|      0|     1|    0|       0|      0|     0|    0|  0|      0|     1|      0|        0|   0|          0|\n",
      "|1997|    42|   4.0|   1580|        0|        0|       0|     1|      0|      0|     1|    0|       0|      0|     0|    0|  0|      0|     1|      0|        0|   0|          0|\n",
      "|1997|    45|   3.0|   1580|        0|        0|       0|     1|      0|      0|     1|    0|       0|      0|     0|    0|  0|      0|     1|      0|        0|   0|          0|\n",
      "|1997|    47|   1.5|   1580|        0|        0|       0|     1|      0|      0|     1|    0|       0|      0|     0|    0|  0|      0|     1|      0|        0|   0|          0|\n",
      "|1997|    48|   5.0|   1580|        0|        0|       0|     1|      0|      0|     1|    0|       0|      0|     0|    0|  0|      0|     1|      0|        0|   0|          0|\n",
      "|1997|    50|   2.5|   1580|        0|        0|       0|     1|      0|      0|     1|    0|       0|      0|     0|    0|  0|      0|     1|      0|        0|   0|          0|\n",
      "|1997|    51|   5.0|   1580|        0|        0|       0|     1|      0|      0|     1|    0|       0|      0|     0|    0|  0|      0|     1|      0|        0|   0|          0|\n",
      "|1997|    57|   4.0|   1580|        0|        0|       0|     1|      0|      0|     1|    0|       0|      0|     0|    0|  0|      0|     1|      0|        0|   0|          0|\n",
      "|1997|    59|   3.0|   1580|        0|        0|       0|     1|      0|      0|     1|    0|       0|      0|     0|    0|  0|      0|     1|      0|        0|   0|          0|\n",
      "|1997|    62|   3.0|   1580|        0|        0|       0|     1|      0|      0|     1|    0|       0|      0|     0|    0|  0|      0|     1|      0|        0|   0|          0|\n",
      "|1997|    63|   2.0|   1580|        0|        0|       0|     1|      0|      0|     1|    0|       0|      0|     0|    0|  0|      0|     1|      0|        0|   0|          0|\n",
      "+----+------+------+-------+---------+---------+--------+------+-------+-------+------+-----+--------+-------+------+-----+---+-------+------+-------+---------+----+-----------+\n",
      "only showing top 20 rows\n",
      "\n"
     ]
    }
   ],
   "source": [
    "#genereate original feature dataframe, now it has movieId and userId\n",
    "df_for_k_means = df_for_k_means.dropna()\n",
    "features = df_for_k_means.join(genre_cols, df_for_k_means.movieId == genre_cols.movieId, \"inner\").drop(genre_cols.movieId).distinct()\n",
    "features = features.drop('genres')\n",
    "features.show()"
   ]
  },
  {
   "cell_type": "code",
   "execution_count": 7,
   "metadata": {},
   "outputs": [
    {
     "name": "stdout",
     "output_type": "stream",
     "text": [
      "+----+------+------+-------+---------+---------+--------+------+-------+-------+------+-----+--------+-------+------+-----+---+-------+------+-------+---------+----+-----------+\n",
      "|year|userId|rating|movieId|Adventure|Animation|Children|Comedy|Fantasy|Romance|Action|Crime|Thriller|Mystery|Horror|Drama|War|Western|Sci-Fi|Musical|Film-Noir|IMAX|Documentary|\n",
      "+----+------+------+-------+---------+---------+--------+------+-------+-------+------+-----+--------+-------+------+-----+---+-------+------+-------+---------+----+-----------+\n",
      "|1995|57    |5.0   |1      |1        |1        |1       |1     |1      |0      |0     |0    |0       |0      |0     |0    |0  |0      |0     |0      |0        |0   |0          |\n",
      "|1995|33    |3.0   |1      |1        |1        |1       |1     |1      |0      |0     |0    |0       |0      |0     |0    |0  |0      |0     |0      |0        |0   |0          |\n",
      "|1995|54    |3.0   |1      |1        |1        |1       |1     |1      |0      |0     |0    |0       |0      |0     |0    |0  |0      |0     |0      |0        |0   |0          |\n",
      "|1995|19    |4.0   |1      |1        |1        |1       |1     |1      |0      |0     |0    |0       |0      |0     |0    |0  |0      |0     |0      |0        |0   |0          |\n",
      "|1995|32    |3.0   |1      |1        |1        |1       |1     |1      |0      |0     |0    |0       |0      |0     |0    |0  |0      |0     |0      |0        |0   |0          |\n",
      "|1995|44    |3.0   |1      |1        |1        |1       |1     |1      |0      |0     |0    |0       |0      |0     |0    |0  |0      |0     |0      |0        |0   |0          |\n",
      "|1995|50    |3.0   |1      |1        |1        |1       |1     |1      |0      |0     |0    |0       |0      |0     |0    |0  |0      |0     |0      |0        |0   |0          |\n",
      "|1995|7     |4.5   |1      |1        |1        |1       |1     |1      |0      |0     |0    |0       |0      |0     |0    |0  |0      |0     |0      |0        |0   |0          |\n",
      "|1995|18    |3.5   |1      |1        |1        |1       |1     |1      |0      |0     |0    |0       |0      |0     |0    |0  |0      |0     |0      |0        |0   |0          |\n",
      "|1995|27    |3.0   |1      |1        |1        |1       |1     |1      |0      |0     |0    |0       |0      |0     |0    |0  |0      |0     |0      |0        |0   |0          |\n",
      "|1995|31    |5.0   |1      |1        |1        |1       |1     |1      |0      |0     |0    |0       |0      |0     |0    |0  |0      |0     |0      |0        |0   |0          |\n",
      "|1995|40    |5.0   |1      |1        |1        |1       |1     |1      |0      |0     |0    |0       |0      |0     |0    |0  |0      |0     |0      |0        |0   |0          |\n",
      "|1995|43    |5.0   |1      |1        |1        |1       |1     |1      |0      |0     |0    |0       |0      |0     |0    |0  |0      |0     |0      |0        |0   |0          |\n",
      "|1995|45    |4.0   |1      |1        |1        |1       |1     |1      |0      |0     |0    |0       |0      |0     |0    |0  |0      |0     |0      |0        |0   |0          |\n",
      "|1995|46    |5.0   |1      |1        |1        |1       |1     |1      |0      |0     |0    |0       |0      |0     |0    |0  |0      |0     |0      |0        |0   |0          |\n",
      "|1995|1     |4.0   |1      |1        |1        |1       |1     |1      |0      |0     |0    |0       |0      |0     |0    |0  |0      |0     |0      |0        |0   |0          |\n",
      "|1995|5     |4.0   |1      |1        |1        |1       |1     |1      |0      |0     |0    |0       |0      |0     |0    |0  |0      |0     |0      |0        |0   |0          |\n",
      "|1995|15    |2.5   |1      |1        |1        |1       |1     |1      |0      |0     |0    |0       |0      |0     |0    |0  |0      |0     |0      |0        |0   |0          |\n",
      "|1995|17    |4.5   |1      |1        |1        |1       |1     |1      |0      |0     |0    |0       |0      |0     |0    |0  |0      |0     |0      |0        |0   |0          |\n",
      "|1995|21    |3.5   |1      |1        |1        |1       |1     |1      |0      |0     |0    |0       |0      |0     |0    |0  |0      |0     |0      |0        |0   |0          |\n",
      "+----+------+------+-------+---------+---------+--------+------+-------+-------+------+-----+--------+-------+------+-----+---+-------+------+-------+---------+----+-----------+\n",
      "only showing top 20 rows\n",
      "\n"
     ]
    }
   ],
   "source": [
    "#just to check whether the dummy variables are correct or not\n",
    "features.sort(\"movieId\").show(truncate=False)"
   ]
  },
  {
   "cell_type": "code",
   "execution_count": 7,
   "metadata": {},
   "outputs": [
    {
     "name": "stdout",
     "output_type": "stream",
     "text": [
      "+------+----+------+---------+---------+--------+------+-------+-------+------+-----+--------+-------+------+-----+---+-------+------+-------+---------+----+-----------+\n",
      "|userId|year|rating|Adventure|Animation|Children|Comedy|Fantasy|Romance|Action|Crime|Thriller|Mystery|Horror|Drama|War|Western|Sci-Fi|Musical|Film-Noir|IMAX|Documentary|\n",
      "+------+----+------+---------+---------+--------+------+-------+-------+------+-----+--------+-------+------+-----+---+-------+------+-------+---------+----+-----------+\n",
      "|     1|1997|   3.0|        0|        0|       0|     1|      0|      0|     1|    0|       0|      0|     0|    0|  0|      0|     1|      0|        0|   0|          0|\n",
      "|     4|1997|   3.0|        0|        0|       0|     1|      0|      0|     1|    0|       0|      0|     0|    0|  0|      0|     1|      0|        0|   0|          0|\n",
      "|    18|1997|   3.5|        0|        0|       0|     1|      0|      0|     1|    0|       0|      0|     0|    0|  0|      0|     1|      0|        0|   0|          0|\n",
      "|    19|1997|   2.0|        0|        0|       0|     1|      0|      0|     1|    0|       0|      0|     0|    0|  0|      0|     1|      0|        0|   0|          0|\n",
      "|    21|1997|   4.5|        0|        0|       0|     1|      0|      0|     1|    0|       0|      0|     0|    0|  0|      0|     1|      0|        0|   0|          0|\n",
      "|    24|1997|   4.0|        0|        0|       0|     1|      0|      0|     1|    0|       0|      0|     0|    0|  0|      0|     1|      0|        0|   0|          0|\n",
      "|    27|1997|   3.0|        0|        0|       0|     1|      0|      0|     1|    0|       0|      0|     0|    0|  0|      0|     1|      0|        0|   0|          0|\n",
      "|    28|1997|   3.0|        0|        0|       0|     1|      0|      0|     1|    0|       0|      0|     0|    0|  0|      0|     1|      0|        0|   0|          0|\n",
      "|    33|1997|   3.0|        0|        0|       0|     1|      0|      0|     1|    0|       0|      0|     0|    0|  0|      0|     1|      0|        0|   0|          0|\n",
      "|    34|1997|   2.5|        0|        0|       0|     1|      0|      0|     1|    0|       0|      0|     0|    0|  0|      0|     1|      0|        0|   0|          0|\n",
      "|    42|1997|   4.0|        0|        0|       0|     1|      0|      0|     1|    0|       0|      0|     0|    0|  0|      0|     1|      0|        0|   0|          0|\n",
      "|    45|1997|   3.0|        0|        0|       0|     1|      0|      0|     1|    0|       0|      0|     0|    0|  0|      0|     1|      0|        0|   0|          0|\n",
      "|    47|1997|   1.5|        0|        0|       0|     1|      0|      0|     1|    0|       0|      0|     0|    0|  0|      0|     1|      0|        0|   0|          0|\n",
      "|    48|1997|   5.0|        0|        0|       0|     1|      0|      0|     1|    0|       0|      0|     0|    0|  0|      0|     1|      0|        0|   0|          0|\n",
      "|    50|1997|   2.5|        0|        0|       0|     1|      0|      0|     1|    0|       0|      0|     0|    0|  0|      0|     1|      0|        0|   0|          0|\n",
      "|    51|1997|   5.0|        0|        0|       0|     1|      0|      0|     1|    0|       0|      0|     0|    0|  0|      0|     1|      0|        0|   0|          0|\n",
      "|    57|1997|   4.0|        0|        0|       0|     1|      0|      0|     1|    0|       0|      0|     0|    0|  0|      0|     1|      0|        0|   0|          0|\n",
      "|    59|1997|   3.0|        0|        0|       0|     1|      0|      0|     1|    0|       0|      0|     0|    0|  0|      0|     1|      0|        0|   0|          0|\n",
      "|    62|1997|   3.0|        0|        0|       0|     1|      0|      0|     1|    0|       0|      0|     0|    0|  0|      0|     1|      0|        0|   0|          0|\n",
      "|    63|1997|   2.0|        0|        0|       0|     1|      0|      0|     1|    0|       0|      0|     0|    0|  0|      0|     1|      0|        0|   0|          0|\n",
      "+------+----+------+---------+---------+--------+------+-------+-------+------+-----+--------+-------+------+-----+---+-------+------+-------+---------+----+-----------+\n",
      "only showing top 20 rows\n",
      "\n"
     ]
    }
   ],
   "source": [
    "#features with userId to be used as identity now \n",
    "features = features.drop('movieId') \n",
    "features = features.select('userId', 'year','rating','Adventure',\n",
    "          'Animation',\n",
    "          'Children',\n",
    "         'Comedy',\n",
    "         'Fantasy',\n",
    "         'Romance',\n",
    "         'Action',\n",
    "         'Crime',\n",
    "         'Thriller',\n",
    "         'Mystery',\n",
    "         'Horror',\n",
    "         'Drama',\n",
    "         'War',\n",
    "         'Western',\n",
    "         'Sci-Fi',\n",
    "         'Musical',\n",
    "         'Film-Noir',\n",
    "         'IMAX',\n",
    "         'Documentary')\n",
    "features.show()"
   ]
  },
  {
   "cell_type": "code",
   "execution_count": 9,
   "metadata": {},
   "outputs": [
    {
     "data": {
      "text/plain": [
       "StructType(List(StructField(userId,IntegerType,true),StructField(year,IntegerType,true),StructField(rating,FloatType,true),StructField(Adventure,IntegerType,true),StructField(Animation,IntegerType,true),StructField(Children,IntegerType,true),StructField(Comedy,IntegerType,true),StructField(Fantasy,IntegerType,true),StructField(Romance,IntegerType,true),StructField(Action,IntegerType,true),StructField(Crime,IntegerType,true),StructField(Thriller,IntegerType,true),StructField(Mystery,IntegerType,true),StructField(Horror,IntegerType,true),StructField(Drama,IntegerType,true),StructField(War,IntegerType,true),StructField(Western,IntegerType,true),StructField(Sci-Fi,IntegerType,true),StructField(Musical,IntegerType,true),StructField(Film-Noir,IntegerType,true),StructField(IMAX,IntegerType,true),StructField(Documentary,IntegerType,true)))"
      ]
     },
     "execution_count": 9,
     "metadata": {},
     "output_type": "execute_result"
    }
   ],
   "source": [
    "#check datatype\n",
    "features.schema"
   ]
  },
  {
   "cell_type": "code",
   "execution_count": 8,
   "metadata": {},
   "outputs": [
    {
     "name": "stdout",
     "output_type": "stream",
     "text": [
      "+------+------+------+---------+---------+--------+------+-------+-------+------+-----+--------+-------+------+-----+---+-------+------+-------+---------+----+-----------+\n",
      "|userId|  year|rating|Adventure|Animation|Children|Comedy|Fantasy|Romance|Action|Crime|Thriller|Mystery|Horror|Drama|War|Western|Sci-Fi|Musical|Film-Noir|IMAX|Documentary|\n",
      "+------+------+------+---------+---------+--------+------+-------+-------+------+-----+--------+-------+------+-----+---+-------+------+-------+---------+----+-----------+\n",
      "|     1|1997.0|   3.0|      0.0|      0.0|     0.0|   1.0|    0.0|    0.0|   1.0|  0.0|     0.0|    0.0|   0.0|  0.0|0.0|    0.0|   1.0|    0.0|      0.0| 0.0|        0.0|\n",
      "|     4|1997.0|   3.0|      0.0|      0.0|     0.0|   1.0|    0.0|    0.0|   1.0|  0.0|     0.0|    0.0|   0.0|  0.0|0.0|    0.0|   1.0|    0.0|      0.0| 0.0|        0.0|\n",
      "|    18|1997.0|   3.5|      0.0|      0.0|     0.0|   1.0|    0.0|    0.0|   1.0|  0.0|     0.0|    0.0|   0.0|  0.0|0.0|    0.0|   1.0|    0.0|      0.0| 0.0|        0.0|\n",
      "|    19|1997.0|   2.0|      0.0|      0.0|     0.0|   1.0|    0.0|    0.0|   1.0|  0.0|     0.0|    0.0|   0.0|  0.0|0.0|    0.0|   1.0|    0.0|      0.0| 0.0|        0.0|\n",
      "|    21|1997.0|   4.5|      0.0|      0.0|     0.0|   1.0|    0.0|    0.0|   1.0|  0.0|     0.0|    0.0|   0.0|  0.0|0.0|    0.0|   1.0|    0.0|      0.0| 0.0|        0.0|\n",
      "|    24|1997.0|   4.0|      0.0|      0.0|     0.0|   1.0|    0.0|    0.0|   1.0|  0.0|     0.0|    0.0|   0.0|  0.0|0.0|    0.0|   1.0|    0.0|      0.0| 0.0|        0.0|\n",
      "|    27|1997.0|   3.0|      0.0|      0.0|     0.0|   1.0|    0.0|    0.0|   1.0|  0.0|     0.0|    0.0|   0.0|  0.0|0.0|    0.0|   1.0|    0.0|      0.0| 0.0|        0.0|\n",
      "|    28|1997.0|   3.0|      0.0|      0.0|     0.0|   1.0|    0.0|    0.0|   1.0|  0.0|     0.0|    0.0|   0.0|  0.0|0.0|    0.0|   1.0|    0.0|      0.0| 0.0|        0.0|\n",
      "|    33|1997.0|   3.0|      0.0|      0.0|     0.0|   1.0|    0.0|    0.0|   1.0|  0.0|     0.0|    0.0|   0.0|  0.0|0.0|    0.0|   1.0|    0.0|      0.0| 0.0|        0.0|\n",
      "|    34|1997.0|   2.5|      0.0|      0.0|     0.0|   1.0|    0.0|    0.0|   1.0|  0.0|     0.0|    0.0|   0.0|  0.0|0.0|    0.0|   1.0|    0.0|      0.0| 0.0|        0.0|\n",
      "|    42|1997.0|   4.0|      0.0|      0.0|     0.0|   1.0|    0.0|    0.0|   1.0|  0.0|     0.0|    0.0|   0.0|  0.0|0.0|    0.0|   1.0|    0.0|      0.0| 0.0|        0.0|\n",
      "|    45|1997.0|   3.0|      0.0|      0.0|     0.0|   1.0|    0.0|    0.0|   1.0|  0.0|     0.0|    0.0|   0.0|  0.0|0.0|    0.0|   1.0|    0.0|      0.0| 0.0|        0.0|\n",
      "|    47|1997.0|   1.5|      0.0|      0.0|     0.0|   1.0|    0.0|    0.0|   1.0|  0.0|     0.0|    0.0|   0.0|  0.0|0.0|    0.0|   1.0|    0.0|      0.0| 0.0|        0.0|\n",
      "|    48|1997.0|   5.0|      0.0|      0.0|     0.0|   1.0|    0.0|    0.0|   1.0|  0.0|     0.0|    0.0|   0.0|  0.0|0.0|    0.0|   1.0|    0.0|      0.0| 0.0|        0.0|\n",
      "|    50|1997.0|   2.5|      0.0|      0.0|     0.0|   1.0|    0.0|    0.0|   1.0|  0.0|     0.0|    0.0|   0.0|  0.0|0.0|    0.0|   1.0|    0.0|      0.0| 0.0|        0.0|\n",
      "|    51|1997.0|   5.0|      0.0|      0.0|     0.0|   1.0|    0.0|    0.0|   1.0|  0.0|     0.0|    0.0|   0.0|  0.0|0.0|    0.0|   1.0|    0.0|      0.0| 0.0|        0.0|\n",
      "|    57|1997.0|   4.0|      0.0|      0.0|     0.0|   1.0|    0.0|    0.0|   1.0|  0.0|     0.0|    0.0|   0.0|  0.0|0.0|    0.0|   1.0|    0.0|      0.0| 0.0|        0.0|\n",
      "|    59|1997.0|   3.0|      0.0|      0.0|     0.0|   1.0|    0.0|    0.0|   1.0|  0.0|     0.0|    0.0|   0.0|  0.0|0.0|    0.0|   1.0|    0.0|      0.0| 0.0|        0.0|\n",
      "|    62|1997.0|   3.0|      0.0|      0.0|     0.0|   1.0|    0.0|    0.0|   1.0|  0.0|     0.0|    0.0|   0.0|  0.0|0.0|    0.0|   1.0|    0.0|      0.0| 0.0|        0.0|\n",
      "|    63|1997.0|   2.0|      0.0|      0.0|     0.0|   1.0|    0.0|    0.0|   1.0|  0.0|     0.0|    0.0|   0.0|  0.0|0.0|    0.0|   1.0|    0.0|      0.0| 0.0|        0.0|\n",
      "+------+------+------+---------+---------+--------+------+-------+-------+------+-----+--------+-------+------+-----+---+-------+------+-------+---------+----+-----------+\n",
      "only showing top 20 rows\n",
      "\n"
     ]
    }
   ],
   "source": [
    "#convert all the columns in features dataframe into Float type except userId\n",
    "FEATURES_COL = ['year','rating','Adventure',\n",
    "          'Animation',\n",
    "          'Children',\n",
    "         'Comedy',\n",
    "         'Fantasy',\n",
    "         'Romance',\n",
    "         'Action',\n",
    "         'Crime',\n",
    "         'Thriller',\n",
    "         'Mystery',\n",
    "         'Horror',\n",
    "         'Drama',\n",
    "         'War',\n",
    "         'Western',\n",
    "         'Sci-Fi',\n",
    "         'Musical',\n",
    "         'Film-Noir',\n",
    "         'IMAX',\n",
    "         'Documentary']\n",
    "features_float = features\n",
    "for col in features_float.columns:\n",
    "    if col in FEATURES_COL:\n",
    "        features_float = features_float.withColumn(col,features_float[col].cast('float'))\n",
    "features_float.show()"
   ]
  },
  {
   "cell_type": "code",
   "execution_count": 11,
   "metadata": {},
   "outputs": [
    {
     "data": {
      "text/plain": [
       "StructType(List(StructField(userId,IntegerType,true),StructField(year,FloatType,true),StructField(rating,FloatType,true),StructField(Adventure,FloatType,true),StructField(Animation,FloatType,true),StructField(Children,FloatType,true),StructField(Comedy,FloatType,true),StructField(Fantasy,FloatType,true),StructField(Romance,FloatType,true),StructField(Action,FloatType,true),StructField(Crime,FloatType,true),StructField(Thriller,FloatType,true),StructField(Mystery,FloatType,true),StructField(Horror,FloatType,true),StructField(Drama,FloatType,true),StructField(War,FloatType,true),StructField(Western,FloatType,true),StructField(Sci-Fi,FloatType,true),StructField(Musical,FloatType,true),StructField(Film-Noir,FloatType,true),StructField(IMAX,FloatType,true),StructField(Documentary,FloatType,true)))"
      ]
     },
     "execution_count": 11,
     "metadata": {},
     "output_type": "execute_result"
    }
   ],
   "source": [
    "#check type conversion results\n",
    "\n",
    "features_float.schema"
   ]
  },
  {
   "cell_type": "code",
   "execution_count": 9,
   "metadata": {},
   "outputs": [
    {
     "name": "stdout",
     "output_type": "stream",
     "text": [
      "+------+------+------+---------+---------+--------+------+-------+-------+------+-----+--------+-------+------+-----+---+-------+------+-------+---------+----+-----------+--------+----------+-------------+-------------+------------+----------+-----------+-----------+----------+---------+------------+-----------+----------+---------+-------+-----------+----------+-----------+-------------+--------+---------------+--------------------+--------------------+----------------+----------------+---------------+-------------+--------------+--------------+-------------+------------+---------------+--------------+-------------+------------+----------+--------------+-------------+--------------+----------------+-----------+------------------+\n",
      "|userId|  year|rating|Adventure|Animation|Children|Comedy|Fantasy|Romance|Action|Crime|Thriller|Mystery|Horror|Drama|War|Western|Sci-Fi|Musical|Film-Noir|IMAX|Documentary|year_vec|rating_vec|Adventure_vec|Animation_vec|Children_vec|Comedy_vec|Fantasy_vec|Romance_vec|Action_vec|Crime_vec|Thriller_vec|Mystery_vec|Horror_vec|Drama_vec|War_vec|Western_vec|Sci-Fi_vec|Musical_vec|Film-Noir_vec|IMAX_vec|Documentary_vec|         year_scaled|       rating_scaled|Adventure_scaled|Animation_scaled|Children_scaled|Comedy_scaled|Fantasy_scaled|Romance_scaled|Action_scaled|Crime_scaled|Thriller_scaled|Mystery_scaled|Horror_scaled|Drama_scaled|War_scaled|Western_scaled|Sci-Fi_scaled|Musical_scaled|Film-Noir_scaled|IMAX_scaled|Documentary_scaled|\n",
      "+------+------+------+---------+---------+--------+------+-------+-------+------+-----+--------+-------+------+-----+---+-------+------+-------+---------+----+-----------+--------+----------+-------------+-------------+------------+----------+-----------+-----------+----------+---------+------------+-----------+----------+---------+-------+-----------+----------+-----------+-------------+--------+---------------+--------------------+--------------------+----------------+----------------+---------------+-------------+--------------+--------------+-------------+------------+---------------+--------------+-------------+------------+----------+--------------+-------------+--------------+----------------+-----------+------------------+\n",
      "|     1|1997.0|   3.0|      0.0|      0.0|     0.0|   1.0|    0.0|    0.0|   1.0|  0.0|     0.0|    0.0|   0.0|  0.0|0.0|    0.0|   1.0|    0.0|      0.0| 0.0|        0.0|[1997.0]|     [3.0]|        [0.0]|        [0.0]|       [0.0]|     [1.0]|      [0.0]|      [0.0]|     [1.0]|    [0.0]|       [0.0]|      [0.0]|     [0.0]|    [0.0]|  [0.0]|      [0.0]|     [1.0]|      [0.0]|        [0.0]|   [0.0]|          [0.0]|[0.9504289799809342]|[0.5555555555555556]|           [0.0]|           [0.0]|          [0.0]|        [1.0]|         [0.0]|         [0.0]|        [1.0]|       [0.0]|          [0.0]|         [0.0]|        [0.0]|       [0.0]|     [0.0]|         [0.0]|        [1.0]|         [0.0]|           [0.0]|      [0.0]|             [0.0]|\n",
      "|     4|1997.0|   3.0|      0.0|      0.0|     0.0|   1.0|    0.0|    0.0|   1.0|  0.0|     0.0|    0.0|   0.0|  0.0|0.0|    0.0|   1.0|    0.0|      0.0| 0.0|        0.0|[1997.0]|     [3.0]|        [0.0]|        [0.0]|       [0.0]|     [1.0]|      [0.0]|      [0.0]|     [1.0]|    [0.0]|       [0.0]|      [0.0]|     [0.0]|    [0.0]|  [0.0]|      [0.0]|     [1.0]|      [0.0]|        [0.0]|   [0.0]|          [0.0]|[0.9504289799809342]|[0.5555555555555556]|           [0.0]|           [0.0]|          [0.0]|        [1.0]|         [0.0]|         [0.0]|        [1.0]|       [0.0]|          [0.0]|         [0.0]|        [0.0]|       [0.0]|     [0.0]|         [0.0]|        [1.0]|         [0.0]|           [0.0]|      [0.0]|             [0.0]|\n",
      "|    18|1997.0|   3.5|      0.0|      0.0|     0.0|   1.0|    0.0|    0.0|   1.0|  0.0|     0.0|    0.0|   0.0|  0.0|0.0|    0.0|   1.0|    0.0|      0.0| 0.0|        0.0|[1997.0]|     [3.5]|        [0.0]|        [0.0]|       [0.0]|     [1.0]|      [0.0]|      [0.0]|     [1.0]|    [0.0]|       [0.0]|      [0.0]|     [0.0]|    [0.0]|  [0.0]|      [0.0]|     [1.0]|      [0.0]|        [0.0]|   [0.0]|          [0.0]|[0.9504289799809342]|[0.6666666666666666]|           [0.0]|           [0.0]|          [0.0]|        [1.0]|         [0.0]|         [0.0]|        [1.0]|       [0.0]|          [0.0]|         [0.0]|        [0.0]|       [0.0]|     [0.0]|         [0.0]|        [1.0]|         [0.0]|           [0.0]|      [0.0]|             [0.0]|\n",
      "|    19|1997.0|   2.0|      0.0|      0.0|     0.0|   1.0|    0.0|    0.0|   1.0|  0.0|     0.0|    0.0|   0.0|  0.0|0.0|    0.0|   1.0|    0.0|      0.0| 0.0|        0.0|[1997.0]|     [2.0]|        [0.0]|        [0.0]|       [0.0]|     [1.0]|      [0.0]|      [0.0]|     [1.0]|    [0.0]|       [0.0]|      [0.0]|     [0.0]|    [0.0]|  [0.0]|      [0.0]|     [1.0]|      [0.0]|        [0.0]|   [0.0]|          [0.0]|[0.9504289799809342]|[0.3333333333333333]|           [0.0]|           [0.0]|          [0.0]|        [1.0]|         [0.0]|         [0.0]|        [1.0]|       [0.0]|          [0.0]|         [0.0]|        [0.0]|       [0.0]|     [0.0]|         [0.0]|        [1.0]|         [0.0]|           [0.0]|      [0.0]|             [0.0]|\n",
      "|    21|1997.0|   4.5|      0.0|      0.0|     0.0|   1.0|    0.0|    0.0|   1.0|  0.0|     0.0|    0.0|   0.0|  0.0|0.0|    0.0|   1.0|    0.0|      0.0| 0.0|        0.0|[1997.0]|     [4.5]|        [0.0]|        [0.0]|       [0.0]|     [1.0]|      [0.0]|      [0.0]|     [1.0]|    [0.0]|       [0.0]|      [0.0]|     [0.0]|    [0.0]|  [0.0]|      [0.0]|     [1.0]|      [0.0]|        [0.0]|   [0.0]|          [0.0]|[0.9504289799809342]|[0.8888888888888888]|           [0.0]|           [0.0]|          [0.0]|        [1.0]|         [0.0]|         [0.0]|        [1.0]|       [0.0]|          [0.0]|         [0.0]|        [0.0]|       [0.0]|     [0.0]|         [0.0]|        [1.0]|         [0.0]|           [0.0]|      [0.0]|             [0.0]|\n",
      "|    24|1997.0|   4.0|      0.0|      0.0|     0.0|   1.0|    0.0|    0.0|   1.0|  0.0|     0.0|    0.0|   0.0|  0.0|0.0|    0.0|   1.0|    0.0|      0.0| 0.0|        0.0|[1997.0]|     [4.0]|        [0.0]|        [0.0]|       [0.0]|     [1.0]|      [0.0]|      [0.0]|     [1.0]|    [0.0]|       [0.0]|      [0.0]|     [0.0]|    [0.0]|  [0.0]|      [0.0]|     [1.0]|      [0.0]|        [0.0]|   [0.0]|          [0.0]|[0.9504289799809342]|[0.7777777777777777]|           [0.0]|           [0.0]|          [0.0]|        [1.0]|         [0.0]|         [0.0]|        [1.0]|       [0.0]|          [0.0]|         [0.0]|        [0.0]|       [0.0]|     [0.0]|         [0.0]|        [1.0]|         [0.0]|           [0.0]|      [0.0]|             [0.0]|\n",
      "|    27|1997.0|   3.0|      0.0|      0.0|     0.0|   1.0|    0.0|    0.0|   1.0|  0.0|     0.0|    0.0|   0.0|  0.0|0.0|    0.0|   1.0|    0.0|      0.0| 0.0|        0.0|[1997.0]|     [3.0]|        [0.0]|        [0.0]|       [0.0]|     [1.0]|      [0.0]|      [0.0]|     [1.0]|    [0.0]|       [0.0]|      [0.0]|     [0.0]|    [0.0]|  [0.0]|      [0.0]|     [1.0]|      [0.0]|        [0.0]|   [0.0]|          [0.0]|[0.9504289799809342]|[0.5555555555555556]|           [0.0]|           [0.0]|          [0.0]|        [1.0]|         [0.0]|         [0.0]|        [1.0]|       [0.0]|          [0.0]|         [0.0]|        [0.0]|       [0.0]|     [0.0]|         [0.0]|        [1.0]|         [0.0]|           [0.0]|      [0.0]|             [0.0]|\n",
      "|    28|1997.0|   3.0|      0.0|      0.0|     0.0|   1.0|    0.0|    0.0|   1.0|  0.0|     0.0|    0.0|   0.0|  0.0|0.0|    0.0|   1.0|    0.0|      0.0| 0.0|        0.0|[1997.0]|     [3.0]|        [0.0]|        [0.0]|       [0.0]|     [1.0]|      [0.0]|      [0.0]|     [1.0]|    [0.0]|       [0.0]|      [0.0]|     [0.0]|    [0.0]|  [0.0]|      [0.0]|     [1.0]|      [0.0]|        [0.0]|   [0.0]|          [0.0]|[0.9504289799809342]|[0.5555555555555556]|           [0.0]|           [0.0]|          [0.0]|        [1.0]|         [0.0]|         [0.0]|        [1.0]|       [0.0]|          [0.0]|         [0.0]|        [0.0]|       [0.0]|     [0.0]|         [0.0]|        [1.0]|         [0.0]|           [0.0]|      [0.0]|             [0.0]|\n",
      "|    33|1997.0|   3.0|      0.0|      0.0|     0.0|   1.0|    0.0|    0.0|   1.0|  0.0|     0.0|    0.0|   0.0|  0.0|0.0|    0.0|   1.0|    0.0|      0.0| 0.0|        0.0|[1997.0]|     [3.0]|        [0.0]|        [0.0]|       [0.0]|     [1.0]|      [0.0]|      [0.0]|     [1.0]|    [0.0]|       [0.0]|      [0.0]|     [0.0]|    [0.0]|  [0.0]|      [0.0]|     [1.0]|      [0.0]|        [0.0]|   [0.0]|          [0.0]|[0.9504289799809342]|[0.5555555555555556]|           [0.0]|           [0.0]|          [0.0]|        [1.0]|         [0.0]|         [0.0]|        [1.0]|       [0.0]|          [0.0]|         [0.0]|        [0.0]|       [0.0]|     [0.0]|         [0.0]|        [1.0]|         [0.0]|           [0.0]|      [0.0]|             [0.0]|\n",
      "|    34|1997.0|   2.5|      0.0|      0.0|     0.0|   1.0|    0.0|    0.0|   1.0|  0.0|     0.0|    0.0|   0.0|  0.0|0.0|    0.0|   1.0|    0.0|      0.0| 0.0|        0.0|[1997.0]|     [2.5]|        [0.0]|        [0.0]|       [0.0]|     [1.0]|      [0.0]|      [0.0]|     [1.0]|    [0.0]|       [0.0]|      [0.0]|     [0.0]|    [0.0]|  [0.0]|      [0.0]|     [1.0]|      [0.0]|        [0.0]|   [0.0]|          [0.0]|[0.9504289799809342]|[0.4444444444444444]|           [0.0]|           [0.0]|          [0.0]|        [1.0]|         [0.0]|         [0.0]|        [1.0]|       [0.0]|          [0.0]|         [0.0]|        [0.0]|       [0.0]|     [0.0]|         [0.0]|        [1.0]|         [0.0]|           [0.0]|      [0.0]|             [0.0]|\n",
      "|    42|1997.0|   4.0|      0.0|      0.0|     0.0|   1.0|    0.0|    0.0|   1.0|  0.0|     0.0|    0.0|   0.0|  0.0|0.0|    0.0|   1.0|    0.0|      0.0| 0.0|        0.0|[1997.0]|     [4.0]|        [0.0]|        [0.0]|       [0.0]|     [1.0]|      [0.0]|      [0.0]|     [1.0]|    [0.0]|       [0.0]|      [0.0]|     [0.0]|    [0.0]|  [0.0]|      [0.0]|     [1.0]|      [0.0]|        [0.0]|   [0.0]|          [0.0]|[0.9504289799809342]|[0.7777777777777777]|           [0.0]|           [0.0]|          [0.0]|        [1.0]|         [0.0]|         [0.0]|        [1.0]|       [0.0]|          [0.0]|         [0.0]|        [0.0]|       [0.0]|     [0.0]|         [0.0]|        [1.0]|         [0.0]|           [0.0]|      [0.0]|             [0.0]|\n",
      "|    45|1997.0|   3.0|      0.0|      0.0|     0.0|   1.0|    0.0|    0.0|   1.0|  0.0|     0.0|    0.0|   0.0|  0.0|0.0|    0.0|   1.0|    0.0|      0.0| 0.0|        0.0|[1997.0]|     [3.0]|        [0.0]|        [0.0]|       [0.0]|     [1.0]|      [0.0]|      [0.0]|     [1.0]|    [0.0]|       [0.0]|      [0.0]|     [0.0]|    [0.0]|  [0.0]|      [0.0]|     [1.0]|      [0.0]|        [0.0]|   [0.0]|          [0.0]|[0.9504289799809342]|[0.5555555555555556]|           [0.0]|           [0.0]|          [0.0]|        [1.0]|         [0.0]|         [0.0]|        [1.0]|       [0.0]|          [0.0]|         [0.0]|        [0.0]|       [0.0]|     [0.0]|         [0.0]|        [1.0]|         [0.0]|           [0.0]|      [0.0]|             [0.0]|\n",
      "|    47|1997.0|   1.5|      0.0|      0.0|     0.0|   1.0|    0.0|    0.0|   1.0|  0.0|     0.0|    0.0|   0.0|  0.0|0.0|    0.0|   1.0|    0.0|      0.0| 0.0|        0.0|[1997.0]|     [1.5]|        [0.0]|        [0.0]|       [0.0]|     [1.0]|      [0.0]|      [0.0]|     [1.0]|    [0.0]|       [0.0]|      [0.0]|     [0.0]|    [0.0]|  [0.0]|      [0.0]|     [1.0]|      [0.0]|        [0.0]|   [0.0]|          [0.0]|[0.9504289799809342]|[0.2222222222222222]|           [0.0]|           [0.0]|          [0.0]|        [1.0]|         [0.0]|         [0.0]|        [1.0]|       [0.0]|          [0.0]|         [0.0]|        [0.0]|       [0.0]|     [0.0]|         [0.0]|        [1.0]|         [0.0]|           [0.0]|      [0.0]|             [0.0]|\n",
      "|    48|1997.0|   5.0|      0.0|      0.0|     0.0|   1.0|    0.0|    0.0|   1.0|  0.0|     0.0|    0.0|   0.0|  0.0|0.0|    0.0|   1.0|    0.0|      0.0| 0.0|        0.0|[1997.0]|     [5.0]|        [0.0]|        [0.0]|       [0.0]|     [1.0]|      [0.0]|      [0.0]|     [1.0]|    [0.0]|       [0.0]|      [0.0]|     [0.0]|    [0.0]|  [0.0]|      [0.0]|     [1.0]|      [0.0]|        [0.0]|   [0.0]|          [0.0]|[0.9504289799809342]|               [1.0]|           [0.0]|           [0.0]|          [0.0]|        [1.0]|         [0.0]|         [0.0]|        [1.0]|       [0.0]|          [0.0]|         [0.0]|        [0.0]|       [0.0]|     [0.0]|         [0.0]|        [1.0]|         [0.0]|           [0.0]|      [0.0]|             [0.0]|\n",
      "|    50|1997.0|   2.5|      0.0|      0.0|     0.0|   1.0|    0.0|    0.0|   1.0|  0.0|     0.0|    0.0|   0.0|  0.0|0.0|    0.0|   1.0|    0.0|      0.0| 0.0|        0.0|[1997.0]|     [2.5]|        [0.0]|        [0.0]|       [0.0]|     [1.0]|      [0.0]|      [0.0]|     [1.0]|    [0.0]|       [0.0]|      [0.0]|     [0.0]|    [0.0]|  [0.0]|      [0.0]|     [1.0]|      [0.0]|        [0.0]|   [0.0]|          [0.0]|[0.9504289799809342]|[0.4444444444444444]|           [0.0]|           [0.0]|          [0.0]|        [1.0]|         [0.0]|         [0.0]|        [1.0]|       [0.0]|          [0.0]|         [0.0]|        [0.0]|       [0.0]|     [0.0]|         [0.0]|        [1.0]|         [0.0]|           [0.0]|      [0.0]|             [0.0]|\n",
      "|    51|1997.0|   5.0|      0.0|      0.0|     0.0|   1.0|    0.0|    0.0|   1.0|  0.0|     0.0|    0.0|   0.0|  0.0|0.0|    0.0|   1.0|    0.0|      0.0| 0.0|        0.0|[1997.0]|     [5.0]|        [0.0]|        [0.0]|       [0.0]|     [1.0]|      [0.0]|      [0.0]|     [1.0]|    [0.0]|       [0.0]|      [0.0]|     [0.0]|    [0.0]|  [0.0]|      [0.0]|     [1.0]|      [0.0]|        [0.0]|   [0.0]|          [0.0]|[0.9504289799809342]|               [1.0]|           [0.0]|           [0.0]|          [0.0]|        [1.0]|         [0.0]|         [0.0]|        [1.0]|       [0.0]|          [0.0]|         [0.0]|        [0.0]|       [0.0]|     [0.0]|         [0.0]|        [1.0]|         [0.0]|           [0.0]|      [0.0]|             [0.0]|\n",
      "|    57|1997.0|   4.0|      0.0|      0.0|     0.0|   1.0|    0.0|    0.0|   1.0|  0.0|     0.0|    0.0|   0.0|  0.0|0.0|    0.0|   1.0|    0.0|      0.0| 0.0|        0.0|[1997.0]|     [4.0]|        [0.0]|        [0.0]|       [0.0]|     [1.0]|      [0.0]|      [0.0]|     [1.0]|    [0.0]|       [0.0]|      [0.0]|     [0.0]|    [0.0]|  [0.0]|      [0.0]|     [1.0]|      [0.0]|        [0.0]|   [0.0]|          [0.0]|[0.9504289799809342]|[0.7777777777777777]|           [0.0]|           [0.0]|          [0.0]|        [1.0]|         [0.0]|         [0.0]|        [1.0]|       [0.0]|          [0.0]|         [0.0]|        [0.0]|       [0.0]|     [0.0]|         [0.0]|        [1.0]|         [0.0]|           [0.0]|      [0.0]|             [0.0]|\n",
      "|    59|1997.0|   3.0|      0.0|      0.0|     0.0|   1.0|    0.0|    0.0|   1.0|  0.0|     0.0|    0.0|   0.0|  0.0|0.0|    0.0|   1.0|    0.0|      0.0| 0.0|        0.0|[1997.0]|     [3.0]|        [0.0]|        [0.0]|       [0.0]|     [1.0]|      [0.0]|      [0.0]|     [1.0]|    [0.0]|       [0.0]|      [0.0]|     [0.0]|    [0.0]|  [0.0]|      [0.0]|     [1.0]|      [0.0]|        [0.0]|   [0.0]|          [0.0]|[0.9504289799809342]|[0.5555555555555556]|           [0.0]|           [0.0]|          [0.0]|        [1.0]|         [0.0]|         [0.0]|        [1.0]|       [0.0]|          [0.0]|         [0.0]|        [0.0]|       [0.0]|     [0.0]|         [0.0]|        [1.0]|         [0.0]|           [0.0]|      [0.0]|             [0.0]|\n",
      "|    62|1997.0|   3.0|      0.0|      0.0|     0.0|   1.0|    0.0|    0.0|   1.0|  0.0|     0.0|    0.0|   0.0|  0.0|0.0|    0.0|   1.0|    0.0|      0.0| 0.0|        0.0|[1997.0]|     [3.0]|        [0.0]|        [0.0]|       [0.0]|     [1.0]|      [0.0]|      [0.0]|     [1.0]|    [0.0]|       [0.0]|      [0.0]|     [0.0]|    [0.0]|  [0.0]|      [0.0]|     [1.0]|      [0.0]|        [0.0]|   [0.0]|          [0.0]|[0.9504289799809342]|[0.5555555555555556]|           [0.0]|           [0.0]|          [0.0]|        [1.0]|         [0.0]|         [0.0]|        [1.0]|       [0.0]|          [0.0]|         [0.0]|        [0.0]|       [0.0]|     [0.0]|         [0.0]|        [1.0]|         [0.0]|           [0.0]|      [0.0]|             [0.0]|\n",
      "|    63|1997.0|   2.0|      0.0|      0.0|     0.0|   1.0|    0.0|    0.0|   1.0|  0.0|     0.0|    0.0|   0.0|  0.0|0.0|    0.0|   1.0|    0.0|      0.0| 0.0|        0.0|[1997.0]|     [2.0]|        [0.0]|        [0.0]|       [0.0]|     [1.0]|      [0.0]|      [0.0]|     [1.0]|    [0.0]|       [0.0]|      [0.0]|     [0.0]|    [0.0]|  [0.0]|      [0.0]|     [1.0]|      [0.0]|        [0.0]|   [0.0]|          [0.0]|[0.9504289799809342]|[0.3333333333333333]|           [0.0]|           [0.0]|          [0.0]|        [1.0]|         [0.0]|         [0.0]|        [1.0]|       [0.0]|          [0.0]|         [0.0]|        [0.0]|       [0.0]|     [0.0]|         [0.0]|        [1.0]|         [0.0]|           [0.0]|      [0.0]|             [0.0]|\n",
      "+------+------+------+---------+---------+--------+------+-------+-------+------+-----+--------+-------+------+-----+---+-------+------+-------+---------+----+-----------+--------+----------+-------------+-------------+------------+----------+-----------+-----------+----------+---------+------------+-----------+----------+---------+-------+-----------+----------+-----------+-------------+--------+---------------+--------------------+--------------------+----------------+----------------+---------------+-------------+--------------+--------------+-------------+------------+---------------+--------------+-------------+------------+----------+--------------+-------------+--------------+----------------+-----------+------------------+\n",
      "only showing top 20 rows\n",
      "\n"
     ]
    }
   ],
   "source": [
    "#scale data using MinMaxScaler\n",
    "\n",
    "from pyspark.ml.feature import MinMaxScaler\n",
    "from pyspark.ml import Pipeline\n",
    "from pyspark.ml.feature import VectorAssembler\n",
    "\n",
    "testdf = features_float\n",
    "\n",
    "assemblers = [VectorAssembler(inputCols= [col], outputCol=col + \"_vec\") for col in FEATURES_COL]\n",
    "scalers = [MinMaxScaler(inputCol=col + \"_vec\", outputCol=col + \"_scaled\") for col in FEATURES_COL]\n",
    "pipeline = Pipeline(stages=assemblers + scalers)\n",
    "scalerModel = pipeline.fit(testdf)\n",
    "scaledData = scalerModel.transform(testdf)\n",
    "scaledData.show()"
   ]
  },
  {
   "cell_type": "code",
   "execution_count": 10,
   "metadata": {},
   "outputs": [
    {
     "name": "stdout",
     "output_type": "stream",
     "text": [
      "+------+--------------------+--------------------+---------+---------+--------+------+-------+-------+------+-----+--------+-------+------+-----+-----+-------+------+-------+---------+-----+-----------+\n",
      "|userId|                year|              rating|Adventure|Animation|Children|Comedy|Fantasy|Romance|Action|Crime|Thriller|Mystery|Horror|Drama|  War|Western|Sci-Fi|Musical|Film-Noir| IMAX|Documentary|\n",
      "+------+--------------------+--------------------+---------+---------+--------+------+-------+-------+------+-----+--------+-------+------+-----+-----+-------+------+-------+---------+-----+-----------+\n",
      "|    64|[0.9418493803622497]|[0.7777777777777777]|    [0.0]|    [0.0]|   [0.0]| [1.0]|  [1.0]|  [1.0]| [0.0]|[0.0]|   [0.0]|  [0.0]| [0.0]|[1.0]|[0.0]|  [0.0]| [0.0]|  [0.0]|    [0.0]|[0.0]|      [0.0]|\n",
      "|   609|[0.9494756911344137]|[0.7777777777777777]|    [0.0]|    [0.0]|   [0.0]| [0.0]|  [0.0]|  [0.0]| [0.0]|[1.0]|   [1.0]|  [0.0]| [0.0]|[0.0]|[0.0]|  [0.0]| [0.0]|  [0.0]|    [0.0]|[0.0]|      [0.0]|\n",
      "|   469|[0.9370829361296472]|               [1.0]|    [0.0]|    [0.0]|   [1.0]| [1.0]|  [0.0]|  [0.0]| [0.0]|[0.0]|   [0.0]|  [0.0]| [0.0]|[0.0]|[0.0]|  [0.0]| [0.0]|  [0.0]|    [0.0]|[0.0]|      [0.0]|\n",
      "|   105|[0.9656816015252622]|[0.7777777777777777]|    [0.0]|    [0.0]|   [0.0]| [1.0]|  [0.0]|  [0.0]| [0.0]|[0.0]|   [0.0]|  [0.0]| [0.0]|[1.0]|[0.0]|  [0.0]| [0.0]|  [0.0]|    [0.0]|[0.0]|      [0.0]|\n",
      "|    45|[0.9437559580552908]|[0.5555555555555556]|    [0.0]|    [0.0]|   [0.0]| [1.0]|  [0.0]|  [0.0]| [0.0]|[0.0]|   [0.0]|  [0.0]| [0.0]|[0.0]|[0.0]|  [0.0]| [0.0]|  [0.0]|    [0.0]|[0.0]|      [0.0]|\n",
      "|   462|[0.9056244041944709]|[0.6666666666666666]|    [0.0]|    [0.0]|   [0.0]| [0.0]|  [0.0]|  [0.0]| [0.0]|[0.0]|   [0.0]|  [0.0]| [0.0]|[1.0]|[0.0]|  [0.0]| [0.0]|  [0.0]|    [0.0]|[0.0]|      [0.0]|\n",
      "|    19|[0.9361296472831268]|[0.3333333333333333]|    [0.0]|    [0.0]|   [0.0]| [1.0]|  [0.0]|  [0.0]| [0.0]|[0.0]|   [0.0]|  [0.0]| [0.0]|[0.0]|[0.0]|  [0.0]| [0.0]|  [0.0]|    [0.0]|[0.0]|      [0.0]|\n",
      "|   288|[0.9504289799809342]|[0.5555555555555556]|    [1.0]|    [0.0]|   [1.0]| [1.0]|  [1.0]|  [0.0]| [0.0]|[0.0]|   [0.0]|  [0.0]| [0.0]|[0.0]|[0.0]|  [0.0]| [0.0]|  [0.0]|    [0.0]|[0.0]|      [0.0]|\n",
      "|   430|[0.9532888465204957]|[0.5555555555555556]|    [1.0]|    [1.0]|   [1.0]| [1.0]|  [1.0]|  [0.0]| [0.0]|[0.0]|   [0.0]|  [0.0]| [0.0]|[0.0]|[0.0]|  [0.0]| [0.0]|  [0.0]|    [0.0]|[0.0]|      [0.0]|\n",
      "|   105|[0.9151572926596758]|[0.7777777777777777]|    [0.0]|    [0.0]|   [0.0]| [0.0]|  [0.0]|  [0.0]| [0.0]|[0.0]|   [0.0]|  [0.0]| [0.0]|[1.0]|[0.0]|  [0.0]| [0.0]|  [0.0]|    [0.0]|[0.0]|      [0.0]|\n",
      "|   122|[0.9399428026692087]|               [1.0]|    [0.0]|    [0.0]|   [0.0]| [0.0]|  [0.0]|  [0.0]| [0.0]|[0.0]|   [1.0]|  [0.0]| [1.0]|[1.0]|[0.0]|  [0.0]| [1.0]|  [0.0]|    [0.0]|[0.0]|      [0.0]|\n",
      "|     1|[0.9466158245948522]|[0.5555555555555556]|    [0.0]|    [0.0]|   [0.0]| [1.0]|  [0.0]|  [0.0]| [0.0]|[0.0]|   [0.0]|  [0.0]| [0.0]|[1.0]|[0.0]|  [0.0]| [0.0]|  [0.0]|    [0.0]|[0.0]|      [0.0]|\n",
      "|   101|[0.9532888465204957]|[0.7777777777777777]|    [1.0]|    [0.0]|   [0.0]| [0.0]|  [0.0]|  [0.0]| [1.0]|[0.0]|   [0.0]|  [0.0]| [0.0]|[0.0]|[0.0]|  [0.0]| [1.0]|  [0.0]|    [0.0]|[0.0]|      [0.0]|\n",
      "|   294|[0.9504289799809342]|[0.1111111111111111]|    [1.0]|    [0.0]|   [0.0]| [1.0]|  [0.0]|  [0.0]| [1.0]|[0.0]|   [0.0]|  [0.0]| [0.0]|[0.0]|[0.0]|  [0.0]| [0.0]|  [0.0]|    [0.0]|[0.0]|      [0.0]|\n",
      "|   139|[0.9571020019065777]|[0.3333333333333333]|    [1.0]|    [1.0]|   [1.0]| [1.0]|  [0.0]|  [1.0]| [0.0]|[0.0]|   [0.0]|  [0.0]| [0.0]|[0.0]|[0.0]|  [0.0]| [0.0]|  [1.0]|    [0.0]|[0.0]|      [0.0]|\n",
      "|   554|[0.9523355576739752]|[0.5555555555555556]|    [0.0]|    [0.0]|   [0.0]| [0.0]|  [0.0]|  [0.0]| [0.0]|[0.0]|   [0.0]|  [0.0]| [0.0]|[1.0]|[0.0]|  [0.0]| [0.0]|  [0.0]|    [0.0]|[0.0]|      [0.0]|\n",
      "|    68|[0.9542421353670162]|[0.4444444444444444]|    [0.0]|    [0.0]|   [0.0]| [0.0]|  [0.0]|  [0.0]| [0.0]|[0.0]|   [0.0]|  [0.0]| [0.0]|[1.0]|[1.0]|  [0.0]| [0.0]|  [0.0]|    [0.0]|[0.0]|      [0.0]|\n",
      "|   232|[0.9561487130600572]|[0.5555555555555556]|    [0.0]|    [0.0]|   [0.0]| [1.0]|  [0.0]|  [0.0]| [0.0]|[0.0]|   [0.0]|  [0.0]| [0.0]|[0.0]|[0.0]|  [0.0]| [0.0]|  [0.0]|    [0.0]|[0.0]|      [0.0]|\n",
      "|   105|[0.9313632030505242]|               [1.0]|    [0.0]|    [1.0]|   [0.0]| [1.0]|  [0.0]|  [0.0]| [0.0]|[0.0]|   [0.0]|  [0.0]| [0.0]|[0.0]|[0.0]|  [0.0]| [0.0]|  [0.0]|    [0.0]|[0.0]|      [0.0]|\n",
      "|   380|[0.9637750238322211]|               [1.0]|    [1.0]|    [0.0]|   [0.0]| [0.0]|  [1.0]|  [0.0]| [1.0]|[0.0]|   [0.0]|  [0.0]| [0.0]|[1.0]|[0.0]|  [0.0]| [0.0]|  [0.0]|    [0.0]|[1.0]|      [0.0]|\n",
      "+------+--------------------+--------------------+---------+---------+--------+------+-------+-------+------+-----+--------+-------+------+-----+-----+-------+------+-------+---------+-----+-----------+\n",
      "only showing top 20 rows\n",
      "\n"
     ]
    }
   ],
   "source": [
    "#generate new scaled dataframe with scaled features\n",
    "\n",
    "from pyspark.sql import functions as F\n",
    "from pyspark.sql.functions import monotonically_increasing_id as mi\n",
    "\n",
    "scaledData2 = scaledData\n",
    "\n",
    "names = {x + \"_scaled\": x for x in FEATURES_COL}\n",
    "data1 = scaledData.select([F.col(c).alias(names[c]) for c in names.keys()])  #add userId\n",
    "data2 = scaledData.select('userId')\n",
    "\n",
    "id=mi()\n",
    "data1 = data1.withColumn(\"match_id\", id)\n",
    "data2 = data2.withColumn(\"match_id\", id)\n",
    "data2 = data2.join(data1,data1.match_id==data2.match_id, 'inner').drop(data1.match_id)\n",
    "data2 = data2.drop(data2.match_id)\n",
    "scaledData = data2\n",
    "scaledData.show()"
   ]
  },
  {
   "cell_type": "code",
   "execution_count": 11,
   "metadata": {},
   "outputs": [
    {
     "name": "stdout",
     "output_type": "stream",
     "text": [
      "+------+--------------------+\n",
      "|userId|            features|\n",
      "+------+--------------------+\n",
      "|    64|(21,[0,1,5,6,7,13...|\n",
      "|   609|(21,[0,1,9,10],[0...|\n",
      "|   469|(21,[0,1,4,5],[0....|\n",
      "|   105|(21,[0,1,5,13],[0...|\n",
      "|    45|(21,[0,1,5],[0.94...|\n",
      "|   462|(21,[0,1,13],[0.9...|\n",
      "|    19|(21,[0,1,5],[0.93...|\n",
      "|   288|(21,[0,1,2,4,5,6]...|\n",
      "|   430|(21,[0,1,2,3,4,5,...|\n",
      "|   105|(21,[0,1,13],[0.9...|\n",
      "|   122|(21,[0,1,10,12,13...|\n",
      "|     1|(21,[0,1,5,13],[0...|\n",
      "|   101|(21,[0,1,2,8,16],...|\n",
      "|   294|(21,[0,1,2,5,8],[...|\n",
      "|   139|(21,[0,1,2,3,4,5,...|\n",
      "|   554|(21,[0,1,13],[0.9...|\n",
      "|    68|(21,[0,1,13,14],[...|\n",
      "|   232|(21,[0,1,5],[0.95...|\n",
      "|   105|(21,[0,1,3,5],[0....|\n",
      "|   380|(21,[0,1,2,6,8,13...|\n",
      "+------+--------------------+\n",
      "only showing top 20 rows\n",
      "\n"
     ]
    }
   ],
   "source": [
    "#Convert the features data to dense vector\n",
    "\n",
    "from __future__ import print_function\n",
    "from pyspark.ml.feature import VectorAssembler\n",
    "import matplotlib.pyplot as plt\n",
    "from mpl_toolkits.mplot3d import Axes3D\n",
    "\n",
    "from pyspark.ml.clustering import KMeans\n",
    "%matplotlib inline\n",
    "\n",
    "\n",
    "scaledData = scaledData.dropna()\n",
    "\n",
    "vecAssembler = VectorAssembler(inputCols= FEATURES_COL, outputCol=\"features\", handleInvalid=\"skip\")\n",
    "df_kmeans = vecAssembler.transform(scaledData).select('userId','features')\n",
    "\n",
    "df_kmeans.show()"
   ]
  },
  {
   "cell_type": "code",
   "execution_count": 12,
   "metadata": {
    "scrolled": true
   },
   "outputs": [
    {
     "name": "stdout",
     "output_type": "stream",
     "text": [
      "+------+--------------------+--------------------+\n",
      "|userId|            features|     indexedFeatures|\n",
      "+------+--------------------+--------------------+\n",
      "|    64|(21,[0,1,5,6,7,13...|(21,[0,1,5,6,7,13...|\n",
      "|   609|(21,[0,1,9,10],[0...|(21,[0,1,9,10],[0...|\n",
      "|   469|(21,[0,1,4,5],[0....|(21,[0,1,4,5],[0....|\n",
      "|   105|(21,[0,1,5,13],[0...|(21,[0,1,5,13],[0...|\n",
      "|    45|(21,[0,1,5],[0.94...|(21,[0,1,5],[0.94...|\n",
      "|   462|(21,[0,1,13],[0.9...|(21,[0,1,13],[0.9...|\n",
      "|    19|(21,[0,1,5],[0.93...|(21,[0,1,5],[0.93...|\n",
      "|   288|(21,[0,1,2,4,5,6]...|(21,[0,1,2,4,5,6]...|\n",
      "|   430|(21,[0,1,2,3,4,5,...|(21,[0,1,2,3,4,5,...|\n",
      "|   105|(21,[0,1,13],[0.9...|(21,[0,1,13],[0.9...|\n",
      "|   122|(21,[0,1,10,12,13...|(21,[0,1,10,12,13...|\n",
      "|     1|(21,[0,1,5,13],[0...|(21,[0,1,5,13],[0...|\n",
      "|   101|(21,[0,1,2,8,16],...|(21,[0,1,2,8,16],...|\n",
      "|   294|(21,[0,1,2,5,8],[...|(21,[0,1,2,5,8],[...|\n",
      "|   139|(21,[0,1,2,3,4,5,...|(21,[0,1,2,3,4,5,...|\n",
      "|   554|(21,[0,1,13],[0.9...|(21,[0,1,13],[0.9...|\n",
      "|    68|(21,[0,1,13,14],[...|(21,[0,1,13,14],[...|\n",
      "|   232|(21,[0,1,5],[0.95...|(21,[0,1,5],[0.95...|\n",
      "|   105|(21,[0,1,3,5],[0....|(21,[0,1,3,5],[0....|\n",
      "|   380|(21,[0,1,2,6,8,13...|(21,[0,1,2,6,8,13...|\n",
      "+------+--------------------+--------------------+\n",
      "only showing top 20 rows\n",
      "\n"
     ]
    },
    {
     "data": {
      "text/plain": [
       "DataFrame[userId: int, features: vector, indexedFeatures: vector]"
      ]
     },
     "execution_count": 12,
     "metadata": {},
     "output_type": "execute_result"
    }
   ],
   "source": [
    "from pyspark.ml import Pipeline\n",
    "from pyspark.ml.regression import LinearRegression\n",
    "from pyspark.ml.feature import VectorIndexer\n",
    "from pyspark.ml.evaluation import RegressionEvaluator\n",
    "\n",
    "# Automatically identify categorical features, and index them.\n",
    "# We specify maxCategories so features with > 19 distinct values are treated as continuous.\n",
    "\n",
    "featureIndexer = VectorIndexer(inputCol=\"features\", \\\n",
    "                               outputCol=\"indexedFeatures\",\\\n",
    "                               maxCategories=19).fit(df_kmeans)\n",
    "\n",
    "df_kmeans = featureIndexer.transform(df_kmeans)\n",
    "df_kmeans.show()\n",
    "df_kmeans.cache()"
   ]
  },
  {
   "cell_type": "code",
   "execution_count": 16,
   "metadata": {
    "scrolled": true
   },
   "outputs": [
    {
     "name": "stdout",
     "output_type": "stream",
     "text": [
      "Silhouette Score: 0.604144052191206\n",
      "Silhouette Score: 0.4820606844424913\n",
      "Silhouette Score: 0.3530194428139273\n",
      "Silhouette Score: 0.33424819624148133\n",
      "Silhouette Score: 0.31099387002218165\n",
      "Silhouette Score: 0.2810611392598347\n",
      "Silhouette Score: 0.271565408685879\n",
      "Silhouette Score: 0.2641341809021929\n",
      "Silhouette Score: 0.25929065988908917\n",
      "Silhouette Score: 0.23924036973861235\n",
      "Silhouette Score: 0.26961630897963224\n",
      "Silhouette Score: 0.2511010290881076\n",
      "Silhouette Score: 0.23521951312096878\n",
      "Silhouette Score: 0.221227984248844\n",
      "Silhouette Score: 0.2466587925220509\n",
      "Silhouette Score: 0.2342174764253521\n",
      "Silhouette Score: 0.2417341250957925\n",
      "Silhouette Score: 0.22677714023529544\n"
     ]
    }
   ],
   "source": [
    "# Determine optimal number of clusters by using Silhoutte Score Analysis.\n",
    "\n",
    "from pyspark.ml.clustering import KMeans\n",
    "from pyspark.ml.evaluation import ClusteringEvaluator\n",
    "silhouette_score=[]\n",
    "evaluator = ClusteringEvaluator(predictionCol='prediction', featuresCol='indexedFeatures', \\\n",
    "                                metricName='silhouette', distanceMeasure='squaredEuclidean')\n",
    "\n",
    "for i in range(2,20):    \n",
    "    KMeans_algo=KMeans(featuresCol='indexedFeatures', k=i)  \n",
    "    KMeans_fit=KMeans_algo.fit(df_kmeans)  \n",
    "    output=KMeans_fit.transform(df_kmeans)    \n",
    "    score=evaluator.evaluate(output)   \n",
    "    silhouette_score.append(score)   \n",
    "    print(\"Silhouette Score:\",score)"
   ]
  },
  {
   "cell_type": "code",
   "execution_count": 17,
   "metadata": {},
   "outputs": [
    {
     "data": {
      "text/plain": [
       "Text(0, 0.5, 'Silhouette Scores')"
      ]
     },
     "execution_count": 17,
     "metadata": {},
     "output_type": "execute_result"
    },
    {
     "data": {
      "image/png": "[encoded data removed]",
      "text/plain": [
       "<Figure size 576x432 with 1 Axes>"
      ]
     },
     "metadata": {
      "needs_background": "light"
     },
     "output_type": "display_data"
    }
   ],
   "source": [
    "#Visualizing the silhouette scores in a plot\n",
    "import matplotlib.pyplot as plt\n",
    "fig, ax = plt.subplots(1,1, figsize =(8,6))\n",
    "ax.plot(range(2,20),silhouette_score)\n",
    "ax.set_xlabel('k')\n",
    "ax.set_ylabel('Silhouette Scores')"
   ]
  },
  {
   "cell_type": "code",
   "execution_count": 13,
   "metadata": {},
   "outputs": [
    {
     "name": "stdout",
     "output_type": "stream",
     "text": [
      "Cluster Centers: \n",
      "[9.49735253e-01 6.00000000e+00 1.37369915e-01 4.88174078e-02\n",
      " 5.71428571e-02 8.61684011e-01 1.27909177e-01 2.73036897e-01\n",
      " 1.89782403e-01 1.09933775e-01 4.76821192e-02 2.38410596e-02\n",
      " 6.58467360e-02 2.29328288e-01 2.30842006e-02 1.74077578e-02\n",
      " 8.51466414e-02 4.56007569e-02 2.83822138e-03 1.77861873e-02\n",
      " 4.06811731e-02]\n",
      "[0.94927442 2.80824411 0.23383298 0.04732334 0.09443255 0.46038544\n",
      " 0.11852248 0.16948608 0.33458244 0.12698073 0.26220557 0.05910064\n",
      " 0.10974304 0.30235546 0.02687366 0.01638116 0.19336188 0.03265525\n",
      " 0.00396146 0.02890792 0.00374732]\n",
      "[9.49654111e-01 6.92847682e+00 4.83443709e-01 1.35506877e-02\n",
      " 2.03769740e-03 3.11767702e-02 5.69536424e-02 3.97350993e-02\n",
      " 8.19154356e-01 1.89811513e-01 6.44829343e-01 1.38869078e-01\n",
      " 1.14620479e-01 6.31686195e-02 1.65053490e-02 1.66072338e-02\n",
      " 5.25114620e-01 0.00000000e+00 1.69128884e-02 1.22567499e-01\n",
      " 1.01884870e-04]\n",
      "[9.46854411e-01 7.27194386e+00 1.20029546e-01 2.33903730e-02\n",
      " 1.93278345e-02 9.07792687e-01 7.62033731e-02 2.71082113e-01\n",
      " 1.38988059e-01 1.16951865e-01 4.08715992e-02 2.99150560e-02\n",
      " 6.88169396e-02 7.66958020e-02 2.51138742e-02 2.49907670e-02\n",
      " 8.43284501e-02 4.57958882e-02 3.93943124e-03 1.96971562e-03\n",
      " 4.86273544e-02]\n",
      "[0.94882304 0.67265326 0.22341954 0.04693487 0.11254789 0.46671456\n",
      " 0.11111111 0.16499042 0.32399425 0.11326628 0.24545019 0.06226054\n",
      " 0.12595785 0.28735632 0.03113027 0.01628352 0.19588123 0.0316092\n",
      " 0.00335249 0.02945402 0.0052682 ]\n",
      "[9.47843042e-01 6.91883987e+00 7.70411894e-01 7.02412869e-01\n",
      " 8.09407750e-01 5.45698270e-01 5.93955642e-01 1.39166464e-01\n",
      " 1.22836949e-01 2.63222033e-02 3.41213746e-03 2.19351694e-02\n",
      " 5.11820619e-03 1.10163295e-01 1.46234463e-03 3.16841336e-03\n",
      " 8.04289544e-02 2.52741896e-01 0.00000000e+00 1.18449915e-01\n",
      " 2.43724104e-04]\n",
      "[9.49358601e-01 4.79425626e+00 7.14138439e-01 6.30338733e-02\n",
      " 1.01620029e-01 1.78497791e-01 2.18262150e-01 6.77466863e-02\n",
      " 8.10014728e-01 4.46244477e-02 3.02061856e-01 3.00441826e-02\n",
      " 6.37702504e-02 1.29455081e-01 4.55081001e-02 3.00441826e-02\n",
      " 4.70250368e-01 1.31075110e-02 1.03092784e-03 1.00294551e-01\n",
      " 2.94550810e-04]\n",
      "[9.46585748e-01 6.78573831e+00 8.76555668e-02 9.48536831e-03\n",
      " 2.29397915e-02 1.85132862e-01 5.06559031e-02 2.32425160e-01\n",
      " 1.36427851e-01 1.85603767e-01 1.88025563e-01 6.64648503e-02\n",
      " 2.40834174e-02 9.99461823e-01 1.06222671e-01 2.02489068e-02\n",
      " 6.60612176e-02 1.97780020e-02 1.03599058e-02 1.54053145e-02\n",
      " 3.29633367e-03]\n",
      "[9.48973946e-01 5.10604104e+00 1.65016502e-02 4.44827091e-03\n",
      " 1.14794088e-03 7.51901277e-02 3.01334481e-02 4.95049505e-02\n",
      " 3.63897259e-01 5.13990529e-01 9.14765390e-01 2.58430191e-01\n",
      " 1.74200029e-01 5.23461042e-01 2.02324580e-02 6.45716746e-03\n",
      " 1.02884201e-01 1.72191132e-03 2.22413546e-02 1.23403645e-02\n",
      " 5.73970441e-04]\n",
      "[0.94571757 8.74584793 0.21071065 0.06140549 0.06343916 0.26460287\n",
      " 0.1085753  0.16551802 0.26115693 0.22398599 0.26290815 0.09948028\n",
      " 0.06146198 0.55310134 0.08213761 0.02350017 0.14574624 0.03643656\n",
      " 0.01525251 0.0411253  0.01666478]\n",
      "[9.47196916e-01 4.77257034e+00 1.05781239e-01 8.81510321e-02\n",
      " 1.39131712e-01 6.72812753e-01 1.17902005e-01 2.97950489e-01\n",
      " 5.80327628e-02 6.69213252e-02 1.25615221e-02 2.10093293e-02\n",
      " 4.36347609e-02 4.27532506e-01 3.68030559e-02 1.99809006e-02\n",
      " 3.83456990e-02 7.42672445e-02 1.46918387e-03 1.68221553e-02\n",
      " 1.46918387e-02]\n"
     ]
    }
   ],
   "source": [
    "#Train the machine learning model\n",
    "k = 11\n",
    "kmeans = KMeans().setK(k).setSeed(1).setFeaturesCol(\"indexedFeatures\")\n",
    "model = kmeans.fit(df_kmeans)\n",
    "centers = model.clusterCenters()\n",
    "\n",
    "print(\"Cluster Centers: \")\n",
    "for center in centers:\n",
    "    print(center)"
   ]
  },
  {
   "cell_type": "code",
   "execution_count": 14,
   "metadata": {},
   "outputs": [],
   "source": [
    "#Assign clusters to users\n",
    "transformed = model.transform(df_kmeans).select('userId', 'prediction')\n",
    "rows = transformed.collect()\n"
   ]
  },
  {
   "cell_type": "code",
   "execution_count": 15,
   "metadata": {},
   "outputs": [
    {
     "name": "stdout",
     "output_type": "stream",
     "text": [
      "+------+----------+\n",
      "|userId|prediction|\n",
      "+------+----------+\n",
      "|    64|         7|\n",
      "|   609|         2|\n",
      "|   469|         9|\n",
      "|   105|         7|\n",
      "|    45|        10|\n",
      "|   462|         7|\n",
      "|    19|         1|\n",
      "|   288|        10|\n",
      "|   430|        10|\n",
      "|   105|         7|\n",
      "|   122|         9|\n",
      "|     1|        10|\n",
      "|   101|         2|\n",
      "|   294|         4|\n",
      "|   139|         1|\n",
      "|   554|        10|\n",
      "|    68|        10|\n",
      "|   232|        10|\n",
      "|   105|         9|\n",
      "|   380|         9|\n",
      "+------+----------+\n",
      "only showing top 20 rows\n",
      "\n"
     ]
    }
   ],
   "source": [
    "#create a new dataframe using SQL context and see the results\n",
    "from pyspark.sql import SQLContext\n",
    "sqlContext = SQLContext(spark)\n",
    "df_pred = sqlContext.createDataFrame(rows)\n",
    "\n",
    "#output the prediction results, useid and cluster number\n",
    "df_pred.show()"
   ]
  },
  {
   "cell_type": "code",
   "execution_count": 16,
   "metadata": {},
   "outputs": [],
   "source": [
    "#Write the prediction output to a csv file to check result\n",
    "df_pred.toPandas().to_csv('prediction.csv')"
   ]
  },
  {
   "cell_type": "code",
   "execution_count": 18,
   "metadata": {},
   "outputs": [
    {
     "data": {
      "text/plain": [
       "StructType(List(StructField(userId,LongType,true),StructField(prediction,LongType,true),StructField(year,VectorUDT,true),StructField(rating,VectorUDT,true),StructField(Adventure,VectorUDT,true),StructField(Animation,VectorUDT,true),StructField(Children,VectorUDT,true),StructField(Comedy,VectorUDT,true),StructField(Fantasy,VectorUDT,true),StructField(Romance,VectorUDT,true),StructField(Action,VectorUDT,true),StructField(Crime,VectorUDT,true),StructField(Thriller,VectorUDT,true),StructField(Mystery,VectorUDT,true),StructField(Horror,VectorUDT,true),StructField(Drama,VectorUDT,true),StructField(War,VectorUDT,true),StructField(Western,VectorUDT,true),StructField(Sci-Fi,VectorUDT,true),StructField(Musical,VectorUDT,true),StructField(Film-Noir,VectorUDT,true),StructField(IMAX,VectorUDT,true),StructField(Documentary,VectorUDT,true)))"
      ]
     },
     "execution_count": 18,
     "metadata": {},
     "output_type": "execute_result"
    }
   ],
   "source": [
    "df_pred.schema"
   ]
  },
  {
   "cell_type": "code",
   "execution_count": 21,
   "metadata": {},
   "outputs": [
    {
     "data": {
      "text/plain": [
       "DataFrame[userId: bigint, prediction: bigint]"
      ]
     },
     "execution_count": 21,
     "metadata": {},
     "output_type": "execute_result"
    }
   ],
   "source": [
    "df_pred.cache()"
   ]
  },
  {
   "cell_type": "code",
   "execution_count": 22,
   "metadata": {},
   "outputs": [],
   "source": [
    "#dataframe with movieId, raings, title, genres, userId\n",
    "movie_title = moviesdf.join(ratingsdf, moviesdf.movieId == ratingsdf.movieId,how='inner').drop(ratingsdf.movieId).drop(ratingsdf.timestamp).cache()"
   ]
  },
  {
   "cell_type": "code",
   "execution_count": 23,
   "metadata": {},
   "outputs": [],
   "source": [
    "#get the prediction clusters when you input a userId\n",
    "#prediction = 57 when user id is 10: user with id 57 is clustered into number 10 cluster \n",
    "#output: cluster number\n",
    "def get_prediction(uid): \n",
    "    uid_df = df_pred.filter(df_pred.userId == uid)\n",
    "    pandasdf = uid_df.toPandas()\n",
    "    #change prediction into long type\n",
    "    list_pre = pandasdf[-1:]['prediction'].tolist()\n",
    "    prediction = list_pre[0]\n",
    "    print(prediction)\n",
    "    return prediction\n",
    "\n",
    "\n",
    "\n"
   ]
  },
  {
   "cell_type": "code",
   "execution_count": 24,
   "metadata": {},
   "outputs": [
    {
     "name": "stdout",
     "output_type": "stream",
     "text": [
      "10\n"
     ]
    },
    {
     "data": {
      "text/plain": [
       "10"
      ]
     },
     "execution_count": 24,
     "metadata": {},
     "output_type": "execute_result"
    }
   ],
   "source": [
    "\n",
    "get_prediction(57)"
   ]
  },
  {
   "cell_type": "code",
   "execution_count": 27,
   "metadata": {},
   "outputs": [],
   "source": [
    "#define movie_recommendation function: You input the user id to run the function then it will give you two tables. \n",
    "#First table is the top 5 most watched  movies of your clusters' users. Second one is the top 5 most rating movies of your clusters' users.\n",
    "\n",
    "#uid: user id \n",
    "\n",
    "def movie_recommendation(uid): \n",
    "    #find the clusters of this user\n",
    "    prediction = get_prediction(uid)\n",
    "    \n",
    "    recon_df =  df_pred.filter(df_pred.prediction == prediction)\n",
    "    #get other users' ids in same cluster\n",
    "    recon_df = recon_df.select('userId')\n",
    "    recon_df = recon_df.filter(recon_df.userId != uid)\n",
    "    #get other users' watched movie infomation\n",
    "    recon_df = recon_df.join(movie_title, recon_df.userId == movie_title.userId,how='inner').drop(movie_title.userId)\n",
    "    #count watched time of each movie\n",
    "    rating_number = recon_df.groupBy(recon_df.movieId).count()\n",
    "    \n",
    "    #select top5 watched time movies'ids\n",
    "    most_watched_id = rating_number.orderBy(desc(\"count\")).limit(5)\n",
    "    #according movie ids generate specific movie information\n",
    "    most_watched = movie_title.join(most_watched_id, most_watched_id.movieId == movie_title.movieId,how='inner').drop(most_watched_id.movieId).drop(movie_title.userId).drop(movie_title.rating).distinct()\n",
    "    most_watched.show() #show the first table \n",
    "    \n",
    "    #count average movie ratings of other users' watched movie\n",
    "    highest_rating = recon_df.groupBy(recon_df.movieId).agg(avg(\"rating\").alias(\"avg_rating\"))\n",
    "    #select top5 rating movies'ids\n",
    "    highest_rating = highest_rating.orderBy(desc(\"avg_rating\")).limit(5)\n",
    "    #according movie ids generate specific movie information\n",
    "    highest_rating = movie_title.join(highest_rating, highest_rating.movieId == movie_title.movieId,how='inner').drop(highest_rating.movieId).drop(movie_title.userId).drop(movie_title.rating).distinct()\n",
    "    highest_rating.show() #show the second table "
   ]
  },
  {
   "cell_type": "code",
   "execution_count": 28,
   "metadata": {},
   "outputs": [
    {
     "name": "stdout",
     "output_type": "stream",
     "text": [
      "10\n",
      "+--------------------+--------------------+----+-------+-----+\n",
      "|               title|              genres|year|movieId|count|\n",
      "+--------------------+--------------------+----+-------+-----+\n",
      "|  Matrix, The (1999)|Action|Sci-Fi|Thr...|1999|   2571| 9807|\n",
      "|Jurassic Park (1993)|Action|Adventure|...|1993|    480| 9871|\n",
      "| Pulp Fiction (1994)|Comedy|Crime|Dram...|1994|    296|10614|\n",
      "|Star Wars: Episod...|Action|Adventure|...|1977|    260|10016|\n",
      "| Forrest Gump (1994)|Comedy|Drama|Roma...|1994|    356|11397|\n",
      "+--------------------+--------------------+----+-------+-----+\n",
      "\n",
      "+--------------------+--------------------+----+-------+----------+\n",
      "|               title|              genres|year|movieId|avg_rating|\n",
      "+--------------------+--------------------+----+-------+----------+\n",
      "|Investigation Hel...|           Animation|1986| 172583|       5.0|\n",
      "|Tenchi Muyô! In L...|    Animation|Comedy|1996| 157775|       5.0|\n",
      "|Strictly Sexual (...|Comedy|Drama|Romance|2008|  67618|       5.0|\n",
      "|Scooby-Doo! Abrac...|Animation|Childre...|2010| 118894|       5.0|\n",
      "|     Lamerica (1994)|     Adventure|Drama|1994|     53|       5.0|\n",
      "+--------------------+--------------------+----+-------+----------+\n",
      "\n"
     ]
    }
   ],
   "source": [
    "#call the movie_recommendation\n",
    "#here you can change the number\"57\" into other userId to see the movie recommendations of specific user\n",
    "\n",
    "#First table is the top 5 most watched  movies of your clusters' users. Second one is the top 5 most rating movies of your clusters' users.\n",
    "movie_recommendation(57)"
   ]
  }
 ],
 "metadata": {
  "kernelspec": {
   "display_name": "Python 3",
   "language": "python",
   "name": "python3"
  },
  "language_info": {
   "codemirror_mode": {
    "name": "ipython",
    "version": 3
   },
   "file_extension": ".py",
   "mimetype": "text/x-python",
   "name": "python",
   "nbconvert_exporter": "python",
   "pygments_lexer": "ipython3",
   "version": "3.8.5"
  }
 },
 "nbformat": 4,
 "nbformat_minor": 4
}
